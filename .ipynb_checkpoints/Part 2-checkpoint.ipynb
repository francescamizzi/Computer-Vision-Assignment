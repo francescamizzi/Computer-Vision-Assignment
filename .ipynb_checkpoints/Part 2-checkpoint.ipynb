{
 "cells": [
  {
   "cell_type": "markdown",
   "metadata": {},
   "source": [
    "# ARI2129 Assignment - Part 2"
   ]
  },
  {
   "cell_type": "code",
   "execution_count": 1,
   "metadata": {},
   "outputs": [],
   "source": [
    "import numpy as np\n",
    "import cv2"
   ]
  },
  {
   "cell_type": "markdown",
   "metadata": {},
   "source": [
    "As with the notebook for Part 1,  the *numpy* and *cv2* modules are imported and will be used throughout this notebook.\n",
    "\n",
    "For both tasks in Part 2, we will re-use the same *CompareResult* function used in the notebook for Part 1."
   ]
  },
  {
   "cell_type": "code",
   "execution_count": 2,
   "metadata": {},
   "outputs": [],
   "source": [
    "def CompareResult(img1, img2, metric):\n",
    "    \"\"\"Compares two images using either SSD or MSE error\"\"\"\n",
    "\n",
    "    if metric==1: #Sum of Squared Distance Error (SSD)\n",
    "        error = np.sum((img1-img2)**2)\n",
    "    elif metric==2: #Mean Squared Error (MSE)\n",
    "        error = np.sum((img1.astype(\"float\") - img2.astype(\"float\")) ** 2)\n",
    "        error /= float(img1.shape[0] * img1.shape[1])\n",
    "    return error"
   ]
  },
  {
   "cell_type": "markdown",
   "metadata": {},
   "source": [
    "# Task A\n",
    "\n",
    "6 different sets of images from the COTS dataset are used. These are the statues, glasses, books, footwear, mugs and gadgets. The S1, S2 and masks (as used in the research paper) were loaded and stored in a dictionary."
   ]
  },
  {
   "cell_type": "code",
   "execution_count": 3,
   "metadata": {},
   "outputs": [],
   "source": [
    "image_sets = {} # 'set name': (s1, s2, mask)\n",
    "image_sets['statue'] = (cv2.imread(\"Images/statues_oc/2_colour.jpeg\"), cv2.imread(\"Images/statues_oc/3_colour.jpeg\"), cv2.imread(\"Images/statues_oc/masks/statues_oc_3_colour_mask_5_mask.png\", 0))\n",
    "\n",
    "image_sets['glasses'] = (cv2.imread(\"COTSDataset/Part 2 - Multiple Objects/shooters_oc/2_colour.jpeg\"), cv2.imread(\"COTSDataset/Part 2 - Multiple Objects/shooters_oc/3_colour.jpeg\"), cv2.imread(\"COTSDataset/Part 2 - Multiple Objects/shooters_oc/masks/shooters_oc_3_colour_mask_0_mask.png\", 0))\n",
    "\n",
    "image_sets['books'] = (cv2.imread(\"COTSDataset/Part 2 - Multiple Objects/academic_book_oc/1_colour.jpeg\"), cv2.imread(\"COTSDataset/Part 2 - Multiple Objects/academic_book_oc/2_colour.jpeg\"), cv2.imread(\"COTSDataset/Part 2 - Multiple Objects/academic_book_oc/masks/ac_oc_3_colour_mask_5_mask.png\", 0))\n",
    "\n",
    "image_sets['footwear'] = (cv2.imread(\"COTSDataset/Part 2 - Multiple Objects/footwear_no/1_colour.jpeg\"), cv2.imread(\"COTSDataset/Part 2 - Multiple Objects/footwear_no/2_colour.jpeg\"), cv2.imread(\"COTSDataset/Part 2 - Multiple Objects/footwear_no/masks/footware_no_3_colour_mask_2_mask.png\", 0))\n",
    "\n",
    "image_sets['mugs'] = (cv2.imread(\"COTSDataset/Part 2 - Multiple Objects/mugs_no/1_colour.jpeg\"), cv2.imread(\"COTSDataset/Part 2 - Multiple Objects/mugs_no/2_colour.jpeg\"), cv2.imread(\"COTSDataset/Part 2 - Multiple Objects/mugs_no/masks/3_colour_mask_2_mask.png\", 0))\n",
    "\n",
    "image_sets['tech'] = (cv2.imread(\"COTSDataset/Part 2 - Multiple Objects/tech_no/1_colour.jpeg\"), cv2.imread(\"COTSDataset/Part 2 - Multiple Objects/tech_no/2_colour.jpeg\"), cv2.imread(\"COTSDataset/Part 2 - Multiple Objects/tech_no/masks/tech_no_3_colour_mask_2_mask.png\", 0))"
   ]
  },
  {
   "cell_type": "markdown",
   "metadata": {},
   "source": [
    "Each image set uses two different inpainting techniques to remove an object, using its mask."
   ]
  },
  {
   "cell_type": "code",
   "execution_count": 7,
   "metadata": {},
   "outputs": [
    {
     "name": "stdout",
     "output_type": "stream",
     "text": [
      "statue images:\n",
      "NS\n",
      "SSD 115914723  MSE: 511.268857421875\n",
      "Telea\n",
      "SSD 115180351  MSE: 454.6242350260417\n",
      "\n",
      "glasses images:\n",
      "NS\n",
      "SSD 33704007  MSE: 58.58229926215278\n",
      "Telea\n",
      "SSD 33363637  MSE: 58.63602973090278\n",
      "\n",
      "books images:\n",
      "NS\n",
      "SSD 61476765  MSE: 383.14044813368054\n",
      "Telea\n",
      "SSD 59162597  MSE: 327.18941514756943\n",
      "\n",
      "footwear images:\n",
      "NS\n",
      "SSD 46650657  MSE: 90.38670247395834\n",
      "Telea\n",
      "SSD 44000379  MSE: 68.19457790798612\n",
      "\n",
      "mugs images:\n",
      "NS\n",
      "SSD 40576761  MSE: 84.31249240451389\n",
      "Telea\n",
      "SSD 38383500  MSE: 75.38237413194445\n",
      "\n",
      "tech images:\n",
      "NS\n",
      "SSD 40382590  MSE: 144.83847005208332\n",
      "Telea\n",
      "SSD 38996685  MSE: 118.37105577256945\n",
      "\n"
     ]
    }
   ],
   "source": [
    "for name, (s1, s2, mask) in image_sets.items():\n",
    "    paint_ns = cv2.inpaint(s2, mask, 20, cv2.INPAINT_NS)\n",
    "    paint_telea = cv2.inpaint(s2, mask, 20, cv2.INPAINT_TELEA)\n",
    "    print(name, \"images:\")\n",
    "    print(\"NS\")\n",
    "    print(\"SSD:\", CompareResult(s1, paint_ns, 1), \" MSE:\", CompareResult(s1, paint_ns, 2))\n",
    "    print(\"Telea\")\n",
    "    print(\"SSD:\", CompareResult(s1, paint_telea, 1), \" MSE:\", CompareResult(s1, paint_telea, 2))\n",
    "    print(\"\")"
   ]
  },
  {
   "cell_type": "markdown",
   "metadata": {},
   "source": [
    "# Task B-1"
   ]
  },
  {
   "cell_type": "code",
   "execution_count": 8,
   "metadata": {},
   "outputs": [],
   "source": [
    "complex_sets = {} # 'set name': (s1, s2, mask)\n",
    "complex_sets['food'] = (cv2.imread(\"COTSDataset/Part 3 - Complex Background/foodA_nw_no/1_colour.jpeg\"), cv2.imread(\"COTSDataset/Part 3 - Complex Background/foodA_nw_no/2_colour.jpeg\"), cv2.imread(\"COTSDataset/Part 3 - Complex Background/masks/fooda_nw_no/2_colour.png\", 0))\n",
    "\n",
    "complex_sets['statues'] = (cv2.imread(\"COTSDataset/Part 3 - Complex Background/statuesB_w_no/1_colour.jpeg\"), cv2.imread(\"COTSDataset/Part 3 - Complex Background/statuesB_w_no/2_colour.jpeg\"), cv2.imread(\"COTSDataset/Part 3 - Complex Background/masks/statuesb_w_no/3_colour.png\", 0))\n",
    "\n",
    "complex_sets['souvenirs'] = (cv2.imread(\"COTSDataset/Part 3 - Complex Background/souvenirsB_nw_no/1_colour.jpeg\"), cv2.imread(\"COTSDataset/Part 3 - Complex Background/souvenirsB_nw_no/2_colour.jpeg\"), cv2.imread(\"COTSDataset/Part 3 - Complex Background/masks/souvenirsb_nw_no/1_colour.png\", 0))\n",
    "\n",
    "complex_sets['books'] = (cv2.imread(\"COTSDataset/Part 3 - Complex Background/booksC_w_no/1_colour.jpeg\"), cv2.imread(\"COTSDataset/Part 3 - Complex Background/booksC_w_no/2_colour.jpeg\"), cv2.imread(\"COTSDataset/Part 3 - Complex Background/masks/booksc_w_no/1_colour.png\", 0))\n",
    "\n",
    "complex_sets['cups'] = (cv2.imread(\"COTSDataset/Part 3 - Complex Background/cupsA_w_oc/1_colour.jpeg\"), cv2.imread(\"COTSDataset/Part 3 - Complex Background/cupsA_w_oc/2_colour.jpeg\"), cv2.imread(\"COTSDataset/Part 3 - Complex Background/masks/cupsa_w_oc/1_colour.png\", 0))\n",
    "\n",
    "complex_sets['electronics'] = (cv2.imread(\"COTSDataset/Part 3 - Complex Background/electronicsA_nw_no/3_colour.jpeg\"), cv2.imread(\"COTSDataset/Part 3 - Complex Background/electronicsA_nw_no/2_colour.jpeg\"), cv2.imread(\"COTSDataset/Part 3 - Complex Background/masks/electronicsa_nw_no/3_colour.png\", 0))"
   ]
  },
  {
   "cell_type": "code",
   "execution_count": 9,
   "metadata": {},
   "outputs": [
    {
     "name": "stdout",
     "output_type": "stream",
     "text": [
      "food images:\n",
      "NS\n",
      "SSD 214916338  MSE: 3664.18720703125\n",
      "Telea\n",
      "SSD 214050543  MSE: 3572.5213704427083\n",
      "\n",
      "statues images:\n",
      "NS\n",
      "SSD 79105387  MSE: 1668.400671657986\n",
      "Telea\n",
      "SSD 79180499  MSE: 1737.9621733940971\n",
      "\n",
      "souvenirs images:\n",
      "NS\n",
      "SSD 74686615  MSE: 3077.1762749565974\n",
      "Telea\n",
      "SSD 73850406  MSE: 2996.2814301215276\n",
      "\n",
      "books images:\n",
      "NS\n",
      "SSD 93754563  MSE: 3476.327433810764\n",
      "Telea\n",
      "SSD 93337891  MSE: 3547.016982421875\n",
      "\n",
      "cups images:\n",
      "NS\n",
      "SSD 125000973  MSE: 898.9577918836806\n",
      "Telea\n",
      "SSD 125109291  MSE: 901.9742133246527\n",
      "\n",
      "electronics images:\n",
      "NS\n",
      "SSD 58714712  MSE: 457.27842881944446\n",
      "Telea\n",
      "SSD 58630734  MSE: 510.76814019097225\n",
      "\n"
     ]
    }
   ],
   "source": [
    "for name, (s1, s2, mask) in complex_sets.items():\n",
    "    paint_ns = cv2.inpaint(s2, mask, 20, cv2.INPAINT_NS)\n",
    "    paint_telea = cv2.inpaint(s2, mask, 20, cv2.INPAINT_TELEA)\n",
    "    print(name, \"images:\")\n",
    "    print(\"NS\")\n",
    "    print(\"SSD\", CompareResult(s1, paint_ns, 1), \" MSE:\", CompareResult(s1, paint_ns, 2))\n",
    "    print(\"Telea\")\n",
    "    print(\"SSD\", CompareResult(s1, paint_telea, 1), \" MSE:\", CompareResult(s1, paint_telea, 2))\n",
    "    print(\"\")"
   ]
  },
  {
   "cell_type": "markdown",
   "metadata": {},
   "source": [
    "# Task B-2"
   ]
  },
  {
   "cell_type": "code",
   "execution_count": null,
   "metadata": {},
   "outputs": [],
   "source": []
  }
 ],
 "metadata": {
  "interpreter": {
   "hash": "f9db377eb99f2f0001687ee5f0a8c7059c0f00fe46be8b7ead3eb64d7e1b83ff"
  },
  "kernelspec": {
   "display_name": "Python 3",
   "language": "python",
   "name": "python3"
  },
  "language_info": {
   "codemirror_mode": {
    "name": "ipython",
    "version": 3
   },
   "file_extension": ".py",
   "mimetype": "text/x-python",
   "name": "python",
   "nbconvert_exporter": "python",
   "pygments_lexer": "ipython3",
   "version": "3.8.5"
  }
 },
 "nbformat": 4,
 "nbformat_minor": 2
}
