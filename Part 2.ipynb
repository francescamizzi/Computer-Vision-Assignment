{
 "metadata": {
  "language_info": {
   "codemirror_mode": {
    "name": "ipython",
    "version": 3
   },
   "file_extension": ".py",
   "mimetype": "text/x-python",
   "name": "python",
   "nbconvert_exporter": "python",
   "pygments_lexer": "ipython3",
   "version": "3.8.3"
  },
  "orig_nbformat": 4,
  "kernelspec": {
   "name": "python3",
   "display_name": "Python 3.8.3 64-bit"
  },
  "interpreter": {
   "hash": "f9db377eb99f2f0001687ee5f0a8c7059c0f00fe46be8b7ead3eb64d7e1b83ff"
  }
 },
 "nbformat": 4,
 "nbformat_minor": 2,
 "cells": [
  {
   "cell_type": "code",
   "execution_count": 16,
   "metadata": {},
   "outputs": [],
   "source": [
    "import numpy as np\n",
    "import cv2"
   ]
  },
  {
   "source": [
    "# Task A"
   ],
   "cell_type": "markdown",
   "metadata": {}
  },
  {
   "cell_type": "code",
   "execution_count": 17,
   "metadata": {},
   "outputs": [],
   "source": [
    "s1 = cv2.imread(\"Images/statues_oc/2_colour.jpeg\")\n",
    "s2 = cv2.imread(\"Images/statues_oc/3_colour.jpeg\")\n",
    "mask = cv2.imread(\"Images/statues_oc/masks/statues_oc_3_colour_mask_5_mask.png\", 0)"
   ]
  },
  {
   "cell_type": "code",
   "execution_count": 18,
   "metadata": {},
   "outputs": [],
   "source": [
    "inpainted_image = cv2.inpaint(s2, mask, 20, cv2.INPAINT_NS)\n",
    "cv2.imshow(\"Inpainted image\", inpainted_image)\n",
    "cv2.waitKey(0)\n",
    "cv2.destroyAllWindows()"
   ]
  },
  {
   "source": [
    "# Task B"
   ],
   "cell_type": "markdown",
   "metadata": {}
  },
  {
   "cell_type": "code",
   "execution_count": 30,
   "metadata": {},
   "outputs": [],
   "source": [
    "com1 = cv2.imread(\"COTSDataset/Part 3 - Complex Background/cupsA_nw_no/3_colour.jpeg\", 1)\n",
    "commask1 = cv2.imread(\"COTSDataset/Part 3 - Complex Background/masks/cupsa_nw_no/1_colour.png\", 0)\n",
    "cv2.imshow(\"Inpainted image\", com1)\n",
    "cv2.waitKey(0)\n",
    "cv2.destroyAllWindows()\n",
    "inp1 = cv2.inpaint(com1, commask1, 150, cv2.INPAINT_TELEA)\n",
    "cv2.imshow(\"Inpainted image\", inp1)\n",
    "cv2.waitKey(0)\n",
    "cv2.destroyAllWindows()"
   ]
  },
  {
   "cell_type": "code",
   "execution_count": null,
   "metadata": {},
   "outputs": [],
   "source": []
  }
 ]
}