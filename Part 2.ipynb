{
 "metadata": {
  "language_info": {
   "codemirror_mode": {
    "name": "ipython",
    "version": 3
   },
   "file_extension": ".py",
   "mimetype": "text/x-python",
   "name": "python",
   "nbconvert_exporter": "python",
   "pygments_lexer": "ipython3",
   "version": "3.8.3"
  },
  "orig_nbformat": 4,
  "kernelspec": {
   "name": "python3",
   "display_name": "Python 3.8.3 64-bit"
  },
  "interpreter": {
   "hash": "f9db377eb99f2f0001687ee5f0a8c7059c0f00fe46be8b7ead3eb64d7e1b83ff"
  }
 },
 "nbformat": 4,
 "nbformat_minor": 2,
 "cells": [
  {
   "cell_type": "code",
   "execution_count": 2,
   "metadata": {},
   "outputs": [],
   "source": [
    "import numpy as np\n",
    "import cv2"
   ]
  },
  {
   "source": [
    "# Task A"
   ],
   "cell_type": "markdown",
   "metadata": {}
  },
  {
   "cell_type": "code",
   "execution_count": 5,
   "metadata": {},
   "outputs": [],
   "source": [
    "s1 = cv2.imread(\"Images/statues_oc/2_colour.jpeg\")\n",
    "s2 = cv2.imread(\"Images/statues_oc/3_colour.jpeg\")\n",
    "mask = cv2.imread(\"Images/statues_oc/masks/statues_oc_3_colour_mask_5_mask.png\", 0)"
   ]
  },
  {
   "cell_type": "code",
   "execution_count": 15,
   "metadata": {},
   "outputs": [],
   "source": [
    "inpainted_image = cv2.inpaint(s2, mask, 20, cv2.INPAINT_NS)\n",
    "cv2.imshow(\"Inpainted image\", inpainted_image)\n",
    "cv2.waitKey(0)\n",
    "cv2.destroyAllWindows()"
   ]
  },
  {
   "source": [
    "# Task B"
   ],
   "cell_type": "markdown",
   "metadata": {}
  }
 ]
}