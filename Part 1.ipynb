{
 "cells": [
  {
   "cell_type": "code",
   "execution_count": 1,
   "metadata": {},
   "outputs": [],
   "source": [
    "import numpy as np\n",
    "import cv2"
   ]
  },
  {
   "cell_type": "markdown",
   "metadata": {},
   "source": [
    "# Stage 1"
   ]
  },
  {
   "cell_type": "markdown",
   "metadata": {},
   "source": [
    "Stage 1 of this task is concerned with blending an object, taken from one image, onto a scene in another image.\n",
    "\n",
    "Firstly, the two scenes and the object mask are loaded using *cv2* functions.\n",
    "\n",
    "**s1** is the scene containing a single object: an ornament elephant.\n",
    "\n",
    "**s2** is the scene containing two objects: an ornament elephant and a small ornament glass.\n",
    "\n",
    "**mask** is the object mask for the small ornament glass."
   ]
  },
  {
   "cell_type": "code",
   "execution_count": 2,
   "metadata": {},
   "outputs": [],
   "source": [
    "s1 = cv2.imread(\"Images/1_colour.jpeg\", 1) #Scene with 1 object\n",
    "s2 = cv2.imread(\"Images/2_colour.jpeg\") #Scene with 2 objects\n",
    "mask = cv2.imread(\"Images/masks/souvenirs_no_3_colour_mask_2_mask.png\") #Target object mask"
   ]
  },
  {
   "cell_type": "code",
   "execution_count": 3,
   "metadata": {},
   "outputs": [],
   "source": [
    "def ExtractObject(S2, ObjectMask):\n",
    "    \"\"\"Extracts an object from an image scene based on the mask used\"\"\"\n",
    "\n",
    "    final_im = ObjectMask*S2\n",
    "    final_im = cv2.bitwise_not(final_im)\n",
    "    return final_im"
   ]
  },
  {
   "cell_type": "code",
   "execution_count": 4,
   "metadata": {},
   "outputs": [],
   "source": [
    "def ApplyFilter(ExtractedObject, FilterIndex):\n",
    "    \"\"\"Applies convolution on the object using pre-defined image kernels\"\"\"\n",
    "\n",
    "    if FilterIndex==0: #Apply no filter\n",
    "        FilteredExObject = ExtractedObject\n",
    "    elif FilterIndex==1:\n",
    "        print(\"\")\n",
    "        #Will need to define some kernels and use them here\n",
    "    elif FilterIndex==2:\n",
    "        print(\"\")\n",
    "        #Will need to define some kernels and use them here\n",
    "    elif FilterIndex==2:\n",
    "        print(\"\")\n",
    "        #Will need to define some kernels and use them here\n",
    "    return FilteredExObject"
   ]
  },
  {
   "cell_type": "code",
   "execution_count": 5,
   "metadata": {},
   "outputs": [],
   "source": [
    "def ObjectBlender(S1, FilteredExObject):\n",
    "    \"\"\"Adds the filtered extracted object to the image in scene S1\"\"\"\n",
    "\n",
    "    alpha = 0.5\n",
    "    beta = 1.0 - alpha\n",
    "    BlendingResult = cv2.addWeighted(S1, alpha, FilteredExObject, beta, 0.0)\n",
    "    cv2.imshow('Blended', BlendingResult)\n",
    "    cv2.waitKey(0)\n",
    "    cv2.destroyAllWindows()\n",
    "    return BlendingResult"
   ]
  },
  {
   "cell_type": "code",
   "execution_count": 6,
   "metadata": {},
   "outputs": [],
   "source": [
    "def CompareResult(BlendingResult, S2, metric):\n",
    "    \"\"\"Compares the blended image with the scene with 2 objects\"\"\"\n",
    "\n",
    "    if metric==1: #Sum of Squared Distance Error (SSD)\n",
    "        error = BlendingResult-S2\n",
    "        #error = sum(error(:).^2)\n",
    "    elif metric==2: #Mean Squared Error (MSE)\n",
    "        error = np.sum((BlendingResult.astype(\"float\") - S2.astype(\"float\")) ** 2)\n",
    "        error /= float(BlendingResult.shape[0] * BlendingResult.shape[1])\n",
    "    return error"
   ]
  },
  {
   "cell_type": "code",
   "execution_count": 7,
   "metadata": {},
   "outputs": [],
   "source": [
    "extracted = ExtractObject(s2, mask)"
   ]
  },
  {
   "cell_type": "code",
   "execution_count": 8,
   "metadata": {},
   "outputs": [],
   "source": [
    "blended = ObjectBlender(s1, extracted)"
   ]
  },
  {
   "cell_type": "code",
   "execution_count": 9,
   "metadata": {},
   "outputs": [
    {
     "data": {
      "text/plain": [
       "20031.10287109375"
      ]
     },
     "execution_count": 9,
     "metadata": {},
     "output_type": "execute_result"
    }
   ],
   "source": [
    "CompareResult(blended, s2, 2)"
   ]
  },
  {
   "cell_type": "markdown",
   "metadata": {},
   "source": [
    "# Stage 2"
   ]
  },
  {
   "cell_type": "markdown",
   "metadata": {},
   "source": [
    "Stage 2 of this task is concerned with removing the green background from an image and replacing it with another background."
   ]
  },
  {
   "cell_type": "code",
   "execution_count": 15,
   "metadata": {},
   "outputs": [],
   "source": [
    "def RemoveGreen(img):\n",
    "    \"\"\"Removes the green background from an image\"\"\"\n",
    "\n",
    "    lower_bound = np.array([0, 255, 212]) #Upper bound of green colour\n",
    "    upper_bound = np.array([0, 255, 128])\n",
    "    mask = cv2.inRange(img, lower_bound, upper_bound)\n",
    "    mask = cv2.bitwise_and(mask)\n",
    "\n",
    "    cv2.imshow(\"Image without background\", mask)\n",
    "    cv2.waitKey(0)\n",
    "    cv2.destroyAllWindows()"
   ]
  },
  {
   "cell_type": "code",
   "execution_count": null,
   "metadata": {},
   "outputs": [],
   "source": [
    "def NewBackground(imgNoBg, NewBackground):\n",
    "    \"\"\"Replaces the background of an image with NewBackground\"\"\""
   ]
  },
  {
   "cell_type": "code",
   "execution_count": 16,
   "metadata": {},
   "outputs": [
    {
     "ename": "TypeError",
     "evalue": "bitwise_and() missing required argument 'src2' (pos 2)",
     "output_type": "error",
     "traceback": [
      "\u001b[1;31m---------------------------------------------------------------------------\u001b[0m",
      "\u001b[1;31mTypeError\u001b[0m                                 Traceback (most recent call last)",
      "\u001b[1;32m<ipython-input-16-2661e758dea1>\u001b[0m in \u001b[0;36m<module>\u001b[1;34m\u001b[0m\n\u001b[1;32m----> 1\u001b[1;33m \u001b[0mRemoveGreen\u001b[0m\u001b[1;33m(\u001b[0m\u001b[0ms1\u001b[0m\u001b[1;33m)\u001b[0m\u001b[1;33m\u001b[0m\u001b[1;33m\u001b[0m\u001b[0m\n\u001b[0m",
      "\u001b[1;32m<ipython-input-15-f650f1a151d5>\u001b[0m in \u001b[0;36mRemoveGreen\u001b[1;34m(img)\u001b[0m\n\u001b[0;32m      5\u001b[0m     \u001b[0mupper_bound\u001b[0m \u001b[1;33m=\u001b[0m \u001b[0mnp\u001b[0m\u001b[1;33m.\u001b[0m\u001b[0marray\u001b[0m\u001b[1;33m(\u001b[0m\u001b[1;33m[\u001b[0m\u001b[1;36m0\u001b[0m\u001b[1;33m,\u001b[0m \u001b[1;36m255\u001b[0m\u001b[1;33m,\u001b[0m \u001b[1;36m128\u001b[0m\u001b[1;33m]\u001b[0m\u001b[1;33m)\u001b[0m\u001b[1;33m\u001b[0m\u001b[1;33m\u001b[0m\u001b[0m\n\u001b[0;32m      6\u001b[0m     \u001b[0mmask\u001b[0m \u001b[1;33m=\u001b[0m \u001b[0mcv2\u001b[0m\u001b[1;33m.\u001b[0m\u001b[0minRange\u001b[0m\u001b[1;33m(\u001b[0m\u001b[0mimg\u001b[0m\u001b[1;33m,\u001b[0m \u001b[0mlower_bound\u001b[0m\u001b[1;33m,\u001b[0m \u001b[0mupper_bound\u001b[0m\u001b[1;33m)\u001b[0m\u001b[1;33m\u001b[0m\u001b[1;33m\u001b[0m\u001b[0m\n\u001b[1;32m----> 7\u001b[1;33m     \u001b[0mmask\u001b[0m \u001b[1;33m=\u001b[0m \u001b[0mcv2\u001b[0m\u001b[1;33m.\u001b[0m\u001b[0mbitwise_and\u001b[0m\u001b[1;33m(\u001b[0m\u001b[0mmask\u001b[0m\u001b[1;33m)\u001b[0m\u001b[1;33m\u001b[0m\u001b[1;33m\u001b[0m\u001b[0m\n\u001b[0m\u001b[0;32m      8\u001b[0m \u001b[1;33m\u001b[0m\u001b[0m\n\u001b[0;32m      9\u001b[0m     \u001b[0mcv2\u001b[0m\u001b[1;33m.\u001b[0m\u001b[0mimshow\u001b[0m\u001b[1;33m(\u001b[0m\u001b[1;34m\"Image without background\"\u001b[0m\u001b[1;33m,\u001b[0m \u001b[0mmask\u001b[0m\u001b[1;33m)\u001b[0m\u001b[1;33m\u001b[0m\u001b[1;33m\u001b[0m\u001b[0m\n",
      "\u001b[1;31mTypeError\u001b[0m: bitwise_and() missing required argument 'src2' (pos 2)"
     ]
    }
   ],
   "source": [
    "RemoveGreen(s1)"
   ]
  },
  {
   "cell_type": "code",
   "execution_count": null,
   "metadata": {},
   "outputs": [],
   "source": []
  }
 ],
 "metadata": {
  "interpreter": {
   "hash": "f9db377eb99f2f0001687ee5f0a8c7059c0f00fe46be8b7ead3eb64d7e1b83ff"
  },
  "kernelspec": {
   "display_name": "Python 3",
   "language": "python",
   "name": "python3"
  },
  "language_info": {
   "codemirror_mode": {
    "name": "ipython",
    "version": 3
   },
   "file_extension": ".py",
   "mimetype": "text/x-python",
   "name": "python",
   "nbconvert_exporter": "python",
   "pygments_lexer": "ipython3",
   "version": "3.8.5"
  }
 },
 "nbformat": 4,
 "nbformat_minor": 4
}
