{
 "cells": [
  {
   "source": [
    "# ARI2129 Assignment - Part 1 "
   ],
   "cell_type": "markdown",
   "metadata": {}
  },
  {
   "cell_type": "code",
   "execution_count": 1,
   "metadata": {},
   "outputs": [],
   "source": [
    "import numpy as np\n",
    "import cv2"
   ]
  },
  {
   "cell_type": "markdown",
   "metadata": {},
   "source": [
    "The *numpy* and *cv2* modules are imported. These two modules will be used for the entirety of this assignment.\n",
    "\n",
    "# Stage 1\n",
    "\n",
    "Stage 1 of this task is concerned with blending an object, taken from one image, onto a scene in another image.\n",
    "\n",
    "Firstly, the two scenes and the object mask are loaded using *cv2* functions.\n",
    "\n",
    "**s1** is the scene containing a single object: an ornament elephant.\n",
    "\n",
    "**s2** is the scene containing two objects: an ornament elephant and a small ornament glass.\n",
    "\n",
    "**mask** is the object mask for the small ornament glass."
   ]
  },
  {
   "cell_type": "code",
   "execution_count": 2,
   "metadata": {},
   "outputs": [],
   "source": [
    "s1 = cv2.imread(\"Images/1_colour.jpeg\", 1) #Scene with 1 object\n",
    "s2 = cv2.imread(\"Images/2_colour.jpeg\") #Scene with 2 objects\n",
    "s3 = cv2.imread(\"Images/3_colour.jpeg\")\n",
    "mask = cv2.imread(\"Images/masks/souvenirs_no_3_colour_mask_2_mask.png\") #Target object mask\n",
    "bg1 = cv2.imread(\"chairs_outdoors.jpg\")\n",
    "bg2 = cv2.imread(\"valletta_streets.jpg\")\n",
    "#bg3 = cv2.imread(\"gorg.jpg\")"
   ]
  },
  {
   "cell_type": "code",
   "execution_count": 3,
   "metadata": {},
   "outputs": [],
   "source": [
    "def ExtractObject(S2, ObjectMask):\n",
    "    \"\"\"Extracts an object from an image scene based on the mask used\"\"\"\n",
    "\n",
    "    final_im = ObjectMask*S2\n",
    "    final_im = cv2.bitwise_not(final_im)\n",
    "    return final_im"
   ]
  },
  {
   "cell_type": "code",
   "execution_count": 4,
   "metadata": {},
   "outputs": [],
   "source": [
    "def ApplyFilter(ExtractedObject, FilterIndex):\n",
    "    \"\"\"Applies convolution on the object using pre-defined image kernels\"\"\"\n",
    "\n",
    "    if FilterIndex==0: #Apply no filter\n",
    "        FilteredExObject = ExtractedObject\n",
    "    elif FilterIndex==1: #Gaussian Filter\n",
    "        kernel = np.ones((5, 5), np.float32)/25\n",
    "        FilteredExObject = cv2.filter2D(ExtractedObject, -1, kernel)\n",
    "    elif FilterIndex==2: #Histogram Equalisation Filter\n",
    "        img_yuv = cv2.cvtColor(ExtractedObject, cv2.COLOR_BGR2YUV)\n",
    "        img_yuv[:,:,0] = cv2.equalizeHist(img_yuv[:,:,0])\n",
    "        FilteredExObject = cv2.cvtColor(img_yuv, cv2.COLOR_YUV2BGR)\n",
    "    elif FilterIndex==3: #Median Blur Filter\n",
    "        FilteredExObject = cv2.medianBlur(ExtractedObject, 5)\n",
    "    return FilteredExObject"
   ]
  },
  {
   "cell_type": "code",
   "execution_count": 5,
   "metadata": {},
   "outputs": [],
   "source": [
    "def ObjectBlender(S1, FilteredExObject):\n",
    "    \"\"\"Adds the filtered extracted object to the image in scene S1\"\"\"\n",
    "\n",
    "    alpha = 0.65\n",
    "    beta = 1.0 - alpha\n",
    "    BlendingResult = cv2.addWeighted(S1, alpha, FilteredExObject, beta, -60)\n",
    "    cv2.imshow('Blended', BlendingResult)\n",
    "    cv2.waitKey(0)\n",
    "    cv2.destroyAllWindows()\n",
    "    return BlendingResult"
   ]
  },
  {
   "cell_type": "code",
   "execution_count": 6,
   "metadata": {},
   "outputs": [],
   "source": [
    "def CompareResult(BlendingResult, S2, metric):\n",
    "    \"\"\"Compares the blended image with the scene with 2 objects\"\"\"\n",
    "\n",
    "    if metric==1: #Sum of Squared Distance Error (SSD)\n",
    "        error = np.sum((BlendingResult-S2)**2)\n",
    "    elif metric==2: #Mean Squared Error (MSE)\n",
    "        error = np.sum((BlendingResult.astype(\"float\") - S2.astype(\"float\")) ** 2)\n",
    "        error /= float(BlendingResult.shape[0] * BlendingResult.shape[1])\n",
    "    return error"
   ]
  },
  {
   "cell_type": "code",
   "execution_count": 7,
   "metadata": {},
   "outputs": [],
   "source": [
    "extracted = ExtractObject(s2, mask)\n",
    "filtered_1 = ApplyFilter(extracted, 1)\n",
    "filtered_2 = ApplyFilter(extracted, 2)\n",
    "filtered_3 = ApplyFilter(extracted, 3)"
   ]
  },
  {
   "source": [
    "The extracted object is processed using different filters. The image **s1** is blended with the 4 instances of filtered object. For each resulting image, the error scores are displayed."
   ],
   "cell_type": "markdown",
   "metadata": {}
  },
  {
   "cell_type": "code",
   "execution_count": 8,
   "metadata": {},
   "outputs": [],
   "source": [
    "blended_1 = ObjectBlender(s1, extracted)\n",
    "blended_2 = ObjectBlender(s1, filtered_1)\n",
    "blended_3 = ObjectBlender(s1, filtered_2)\n",
    "blended_4 = ObjectBlender(s1, filtered_3)"
   ]
  },
  {
   "cell_type": "code",
   "execution_count": 9,
   "metadata": {},
   "outputs": [
    {
     "output_type": "stream",
     "name": "stdout",
     "text": [
      "No Filter\nSSE: 185244013\nMSE: 1328.9176182725694\n\nGaussian Filter\nSSE: 185525091\nMSE: 1333.313996310764\n\nHistogram Equalisation Filter\nSSE: 186486483\nMSE: 2616.2652289496527\n\nMedian Blur Filter\nSSE: 185400136\nMSE: 1324.9498003472222\n"
     ]
    }
   ],
   "source": [
    "print(\"No Filter\")\n",
    "print(\"SSE:\", CompareResult(blended_1, s2, 1))\n",
    "print(\"MSE:\", CompareResult(blended_1, s2, 2))\n",
    "\n",
    "print(\"\\nGaussian Filter\")\n",
    "print(\"SSE:\", CompareResult(blended_2, s2, 1))\n",
    "print(\"MSE:\", CompareResult(blended_2, s2, 2))\n",
    "\n",
    "print(\"\\nHistogram Equalisation Filter\")\n",
    "print(\"SSE:\", CompareResult(blended_3, s2, 1))\n",
    "print(\"MSE:\", CompareResult(blended_3, s2, 2))\n",
    "\n",
    "print(\"\\nMedian Blur Filter\")\n",
    "print(\"SSE:\", CompareResult(blended_4, s2, 1))\n",
    "print(\"MSE:\", CompareResult(blended_4, s2, 2))"
   ]
  },
  {
   "cell_type": "markdown",
   "metadata": {},
   "source": [
    "# Stage 2\r\n",
    "\r\n",
    "Stage 2 of this task is concerned with removing the green background from an image and replacing it with another background."
   ]
  },
  {
   "cell_type": "code",
   "execution_count": 22,
   "metadata": {},
   "outputs": [],
   "source": [
    "def RemoveGreen(img):\n",
    "    lower_bound = np.array([8, 25, 8]) #Upper bound of green colour\n",
    "    upper_bound = np.array([110, 120, 60])\n",
    "    cv2.normalize(img, img, 0, 255, cv2.NORM_MINMAX)\n",
    "    \n",
    "    temp = np.copy(img)\n",
    "\n",
    "    mask = cv2.inRange(temp, lower_bound, upper_bound)\n",
    "\n",
    "    masked_image = np.copy(temp)\n",
    "    masked_image[mask != 0] = [0, 0, 0]\n",
    "\n",
    "    \n",
    "    return mask, masked_image"
   ]
  },
  {
   "cell_type": "code",
   "execution_count": 23,
   "metadata": {},
   "outputs": [],
   "source": [
    "def NewBackground(img, NewBackground):\n",
    "    \"\"\"Replaces the background of an image with NewBackground\"\"\"\n",
    "    \n",
    "    mask, image = RemoveGreen(img)\n",
    "    background_image = cv2.cvtColor(NewBackground, cv2.COLOR_BGR2RGB)\n",
    "\n",
    "    crop_background = cv2.resize(background_image, (img.shape[1], img.shape[0]))\n",
    "    crop_background[mask == 0] = [0, 0, 0]\n",
    "    \n",
    "    without_back = np.array(image + crop_background)\n",
    "    \n",
    "    cv2.imshow(\"Chroma keyed\", without_back)\n",
    "    cv2.waitKey(0)\n",
    "    cv2.destroyAllWindows()"
   ]
  },
  {
   "cell_type": "code",
   "execution_count": 24,
   "metadata": {},
   "outputs": [],
   "source": [
    "NewBackground(s3, bg1)\n",
    "NewBackground(s3, bg2)"
   ]
  }
 ],
 "metadata": {
  "interpreter": {
   "hash": "f9db377eb99f2f0001687ee5f0a8c7059c0f00fe46be8b7ead3eb64d7e1b83ff"
  },
  "kernelspec": {
   "name": "python3",
   "display_name": "Python 3.8.3 64-bit"
  },
  "language_info": {
   "codemirror_mode": {
    "name": "ipython",
    "version": 3
   },
   "file_extension": ".py",
   "mimetype": "text/x-python",
   "name": "python",
   "nbconvert_exporter": "python",
   "pygments_lexer": "ipython3",
   "version": "3.8.3"
  }
 },
 "nbformat": 4,
 "nbformat_minor": 4
}