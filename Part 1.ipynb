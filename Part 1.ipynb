{
 "cells": [
  {
   "cell_type": "code",
   "execution_count": 1,
   "metadata": {},
   "outputs": [],
   "source": [
    "import numpy as np\n",
    "import cv2"
   ]
  },
  {
   "cell_type": "markdown",
   "metadata": {},
   "source": [
    "# Stage 1"
   ]
  },
  {
   "cell_type": "markdown",
   "metadata": {},
   "source": [
    "Stage 1 of this task is concerned with blending an object, taken from one image, onto a scene in another image.\n",
    "\n",
    "Firstly, the two scenes and the object mask are loaded using *cv2* functions.\n",
    "\n",
    "**s1** is the scene containing a single object: an ornament elephant.\n",
    "\n",
    "**s2** is the scene containing two objects: an ornament elephant and a small ornament glass.\n",
    "\n",
    "**mask** is the object mask for the small ornament glass."
   ]
  },
  {
   "cell_type": "code",
   "execution_count": 2,
   "metadata": {},
   "outputs": [],
   "source": [
    "s1 = cv2.imread(\"Images/1_colour.jpeg\", 1) #Scene with 1 object\n",
    "s2 = cv2.imread(\"Images/2_colour.jpeg\") #Scene with 2 objects\n",
    "s3 = cv2.imread(\"Images/3_colour.jpeg\")\n",
    "black = cv2.imread(\"Images/black.png\")\n",
    "red = cv2.imread(\"Images/Red.png\")\n",
    "mask = cv2.imread(\"Images/masks/souvenirs_no_3_colour_mask_2_mask.png\") #Target object mask\n",
    "gorg = cv2.imread(\"gorg.jpg\")"
   ]
  },
  {
   "cell_type": "code",
   "execution_count": 16,
   "metadata": {},
   "outputs": [],
   "source": [
    "def ExtractObject(S2, ObjectMask):\n",
    "    \"\"\"Extracts an object from an image scene based on the mask used\"\"\"\n",
    "\n",
    "    final_im = ObjectMask*S2\n",
    "    final_im = cv2.bitwise_not(final_im)\n",
    "    return final_im"
   ]
  },
  {
   "cell_type": "code",
   "execution_count": 17,
   "metadata": {},
   "outputs": [],
   "source": [
    "def ApplyFilter(ExtractedObject, FilterIndex):\n",
    "    \"\"\"Applies convolution on the object using pre-defined image kernels\"\"\"\n",
    "\n",
    "    if FilterIndex==0: #Apply no filter\n",
    "        FilteredExObject = ExtractedObject\n",
    "    elif FilterIndex==1:\n",
    "        kernel = np.ones((5, 5), np.float32)/25\n",
    "        FilteredExObject = cv2.filter2D(ExtractedObject, -1, kernel)\n",
    "        #Will need to define some kernels and use them here\n",
    "    elif FilterIndex==2:\n",
    "        img_yuv = cv2.cvtColor(ExtractedObject, cv2.COLOR_BGR2YUV)\n",
    "        img_yuv[:,:,0] = cv2.equalizeHist(img_yuv[:,:,0])\n",
    "        FilteredExObject = cv2.cvtColor(img_yuv, cv2.COLOR_YUV2BGR)\n",
    "    elif FilterIndex==3:\n",
    "        FilteredExObject = cv2.medianBlur(ExtractedObject, 5)\n",
    "        #Will need to define some kernels and use them here\n",
    "    return FilteredExObject"
   ]
  },
  {
   "cell_type": "code",
   "execution_count": 18,
   "metadata": {},
   "outputs": [],
   "source": [
    "def ObjectBlender(S1, FilteredExObject):\n",
    "    \"\"\"Adds the filtered extracted object to the image in scene S1\"\"\"\n",
    "\n",
    "    alpha = 0.6\n",
    "    beta = 1.0 - alpha\n",
    "    BlendingResult = cv2.addWeighted(S1, alpha, FilteredExObject, beta, -60)\n",
    "    cv2.imshow('Blended', BlendingResult)\n",
    "    cv2.waitKey(0)\n",
    "    cv2.destroyAllWindows()\n",
    "    return BlendingResult"
   ]
  },
  {
   "cell_type": "code",
   "execution_count": 19,
   "metadata": {},
   "outputs": [],
   "source": [
    "def CompareResult(BlendingResult, S2, metric):\n",
    "    \"\"\"Compares the blended image with the scene with 2 objects\"\"\"\n",
    "\n",
    "    if metric==1: #Sum of Squared Distance Error (SSD)\n",
    "        error = np.sum((BlendingResult-S2)**2)\n",
    "    elif metric==2: #Mean Squared Error (MSE)\n",
    "        error = np.sum((BlendingResult.astype(\"float\") - S2.astype(\"float\")) ** 2)\n",
    "        error /= float(BlendingResult.shape[0] * BlendingResult.shape[1])\n",
    "    return error"
   ]
  },
  {
   "cell_type": "code",
   "execution_count": 20,
   "metadata": {},
   "outputs": [],
   "source": [
    "extracted = ExtractObject(s2, mask)\n",
    "extracted = ApplyFilter(extracted, 3)"
   ]
  },
  {
   "cell_type": "code",
   "execution_count": 21,
   "metadata": {},
   "outputs": [],
   "source": [
    "blended = ObjectBlender(s1, extracted)"
   ]
  },
  {
   "cell_type": "code",
   "execution_count": 22,
   "metadata": {},
   "outputs": [
    {
     "output_type": "execute_result",
     "data": {
      "text/plain": [
       "1414.880554470486"
      ]
     },
     "metadata": {},
     "execution_count": 22
    }
   ],
   "source": [
    "CompareResult(blended, s2, 2)"
   ]
  },
  {
   "cell_type": "markdown",
   "metadata": {},
   "source": [
    "# Stage 2"
   ]
  },
  {
   "cell_type": "markdown",
   "metadata": {},
   "source": [
    "Stage 2 of this task is concerned with removing the green background from an image and replacing it with another background."
   ]
  },
  {
   "cell_type": "code",
   "execution_count": 10,
   "metadata": {},
   "outputs": [],
   "source": [
    "def RemoveGreen(img):\n",
    "    \"\"\"Removes the green background from an image\"\"\"\n",
    "\n",
    "    lower_bound = np.array([47,75,31]) #Upper bound of green colour\n",
    "    upper_bound = np.array([85,112,48])\n",
    "    mask = cv2.inRange(img, lower_bound, upper_bound)\n",
    "#     test = cv2.bitwise_and(img, img, mask = mask)\n",
    "    test = cv2.bitwise_not(img)\n",
    "\n",
    "    cv2.imshow(\"Image without background\", test)\n",
    "    cv2.waitKey(0)\n",
    "    cv2.destroyAllWindows()"
   ]
  },
  {
   "cell_type": "code",
   "execution_count": 11,
   "metadata": {},
   "outputs": [],
   "source": [
    "RemoveGreen(s3)"
   ]
  },
  {
   "cell_type": "code",
   "execution_count": 12,
   "metadata": {},
   "outputs": [],
   "source": [
    "def NewBackground(imgNoBg, NewBackground):\n",
    "    \"\"\"Replaces the background of an image with NewBackground\"\"\""
   ]
  },
  {
   "cell_type": "code",
   "execution_count": 4,
   "metadata": {},
   "outputs": [],
   "source": [
    "class MaskedImage:\n",
    "    def __init__(self, mask, image):\n",
    "        self.mask = mask\n",
    "        self.image = image\n",
    "\n",
    "def process_foreground_image(frame, lower_green, upper_green):\n",
    "    \"\"\"Create an image mask to change green pixels to black on the foreground image\"\"\"\n",
    "    img = np.copy(frame)\n",
    "\n",
    "    mask = cv2.inRange(img, lower_green, upper_green)\n",
    "\n",
    "    masked_image = np.copy(img)\n",
    "    masked_image[mask != 0] = [0, 0, 0]\n",
    "\n",
    "    return MaskedImage(mask, masked_image)\n",
    "\n",
    "def process_background_image(background_frame, frame, mask):\n",
    "    \"\"\"Create another image mask to turn non-green pixels black on the background image\"\"\"\n",
    "    background_image = cv2.cvtColor(background_frame, cv2.COLOR_BGR2RGB)\n",
    "\n",
    "    crop_background = cv2.resize(background_image, (frame.shape[1], frame.shape[0]))\n",
    "    crop_background[mask == 0] = [0, 0, 0]\n",
    "    return crop_background\n",
    "\n",
    "def chroma_key_image(frame, background_image, lower_green=None, upper_green=None):\n",
    "    \"\"\"Chroma key image method.\"\"\"\n",
    "\n",
    "    lower_green = lower_green if lower_green is not None else np.array([0, 100, 0])\n",
    "    upper_green = upper_green if upper_green is not None else np.array([80, 255, 40])\n",
    "\n",
    "    if frame is None or background_image is None:\n",
    "        raise RuntimeError(\"Foreground or background image is null.\")\n",
    "\n",
    "    cv2.normalize(frame, frame, 0, 255, cv2.NORM_MINMAX)\n",
    "    foreground = process_foreground_image(frame, lower_green, upper_green)\n",
    "    background = process_background_image(background_image, frame, foreground.mask)\n",
    "    without_back = np.array(foreground.image + background)\n",
    "    cv2.imshow(\"Chroma keyed\", without_back)\n",
    "    cv2.waitKey(0)\n",
    "    cv2.destroyAllWindows()"
   ]
  },
  {
   "cell_type": "code",
   "execution_count": 6,
   "metadata": {},
   "outputs": [],
   "source": [
    "lower_bound = np.array([8, 25, 8]) #Upper bound of green colour\n",
    "upper_bound = np.array([110, 120, 60])\n",
    "gorg = cv2.cvtColor(gorg, cv2.COLOR_BGR2RGB)\n",
    "cv2.imshow(\"Red\", gorg)\n",
    "cv2.waitKey(0)\n",
    "cv2.destroyAllWindows()\n",
    "chroma_key_image(frame = s3, background_image = gorg, lower_green=lower_bound, upper_green=upper_bound)"
   ]
  },
  {
   "cell_type": "code",
   "execution_count": null,
   "metadata": {},
   "outputs": [],
   "source": []
  },
  {
   "cell_type": "code",
   "execution_count": null,
   "metadata": {},
   "outputs": [],
   "source": []
  }
 ],
 "metadata": {
  "interpreter": {
   "hash": "f9db377eb99f2f0001687ee5f0a8c7059c0f00fe46be8b7ead3eb64d7e1b83ff"
  },
  "kernelspec": {
   "name": "python3",
   "display_name": "Python 3.8.3 64-bit"
  },
  "language_info": {
   "codemirror_mode": {
    "name": "ipython",
    "version": 3
   },
   "file_extension": ".py",
   "mimetype": "text/x-python",
   "name": "python",
   "nbconvert_exporter": "python",
   "pygments_lexer": "ipython3",
   "version": "3.8.3"
  }
 },
 "nbformat": 4,
 "nbformat_minor": 4
}